{
 "cells": [
  {
   "cell_type": "code",
   "execution_count": 1,
   "id": "e9ffeb7d",
   "metadata": {},
   "outputs": [],
   "source": [
    "# importar OpenCV\n",
    "import cv2"
   ]
  },
  {
   "cell_type": "code",
   "execution_count": 7,
   "id": "9588f25c",
   "metadata": {},
   "outputs": [],
   "source": [
    "# Lee la imagen\n",
    "imagen = cv2.imread('logo.png')"
   ]
  },
  {
   "cell_type": "code",
   "execution_count": 8,
   "id": "8474cc1d",
   "metadata": {},
   "outputs": [
    {
     "name": "stdout",
     "output_type": "stream",
     "text": [
      "2528 2424 3\n"
     ]
    }
   ],
   "source": [
    "# shape imagen\n",
    "(alto, ancho, canales) = imagen.shape\n",
    "print(alto, ancho, canales)"
   ]
  },
  {
   "cell_type": "code",
   "execution_count": 9,
   "id": "16bef7e7",
   "metadata": {},
   "outputs": [
    {
     "data": {
      "text/plain": [
       "-1"
      ]
     },
     "execution_count": 9,
     "metadata": {},
     "output_type": "execute_result"
    }
   ],
   "source": [
    "cv2.imshow('Imagen', imagen)\n",
    "cv2.waitKey(0)"
   ]
  },
  {
   "cell_type": "code",
   "execution_count": 10,
   "id": "05afdaca",
   "metadata": {},
   "outputs": [],
   "source": [
    "# Hago el resize a los px que deseo\n",
    "ancho = 512\n",
    "alto = 512\n",
    "tam = (ancho, alto)\n",
    "img_resize = cv2.resize(imagen, tam, interpolation = cv2.INTER_CUBIC)"
   ]
  },
  {
   "cell_type": "code",
   "execution_count": 11,
   "id": "7a4113f1",
   "metadata": {},
   "outputs": [
    {
     "name": "stdout",
     "output_type": "stream",
     "text": [
      "512 512 3\n"
     ]
    }
   ],
   "source": [
    "# shape a la nueva imagen\n",
    "(alto, ancho, canales) = img_resize.shape\n",
    "print(alto, ancho, canales)"
   ]
  },
  {
   "cell_type": "code",
   "execution_count": 12,
   "id": "2850425f",
   "metadata": {},
   "outputs": [
    {
     "data": {
      "text/plain": [
       "True"
      ]
     },
     "execution_count": 12,
     "metadata": {},
     "output_type": "execute_result"
    }
   ],
   "source": [
    "# Guardo la imagen resize\n",
    "cv2.imwrite('logo_resize.png', img_resize)"
   ]
  },
  {
   "cell_type": "code",
   "execution_count": 24,
   "id": "91006155",
   "metadata": {},
   "outputs": [
    {
     "data": {
      "text/plain": [
       "-1"
      ]
     },
     "execution_count": 24,
     "metadata": {},
     "output_type": "execute_result"
    }
   ],
   "source": [
    "cv2.imshow('Imagen', img_resize)\n",
    "cv2.waitKey(0)"
   ]
  }
 ],
 "metadata": {
  "kernelspec": {
   "display_name": ".opencv",
   "language": "python",
   "name": "python3"
  },
  "language_info": {
   "codemirror_mode": {
    "name": "ipython",
    "version": 3
   },
   "file_extension": ".py",
   "mimetype": "text/x-python",
   "name": "python",
   "nbconvert_exporter": "python",
   "pygments_lexer": "ipython3",
   "version": "3.12.6"
  }
 },
 "nbformat": 4,
 "nbformat_minor": 5
}
